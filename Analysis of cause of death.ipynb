{
 "cells": [
  {
   "cell_type": "markdown",
   "id": "f3399a29",
   "metadata": {},
   "source": [
    "### The most common cause of death in Americans between 1999 and 2017."
   ]
  },
  {
   "cell_type": "code",
   "execution_count": 34,
   "id": "269b1218",
   "metadata": {},
   "outputs": [],
   "source": [
    "import pandas as pd\n",
    "import matplotlib.pyplot as plt\n",
    "\n",
    "df = pd.read_csv('data-sci\\\\NCHS2.csv')"
   ]
  },
  {
   "cell_type": "code",
   "execution_count": 35,
   "id": "78adecd0",
   "metadata": {},
   "outputs": [
    {
     "data": {
      "text/html": [
       "<div>\n",
       "<style scoped>\n",
       "    .dataframe tbody tr th:only-of-type {\n",
       "        vertical-align: middle;\n",
       "    }\n",
       "\n",
       "    .dataframe tbody tr th {\n",
       "        vertical-align: top;\n",
       "    }\n",
       "\n",
       "    .dataframe thead th {\n",
       "        text-align: right;\n",
       "    }\n",
       "</style>\n",
       "<table border=\"1\" class=\"dataframe\">\n",
       "  <thead>\n",
       "    <tr style=\"text-align: right;\">\n",
       "      <th></th>\n",
       "      <th>Year</th>\n",
       "      <th>113 Cause Name</th>\n",
       "      <th>Cause Name</th>\n",
       "      <th>State</th>\n",
       "      <th>Deaths</th>\n",
       "      <th>Age-adjusted Death Rate</th>\n",
       "    </tr>\n",
       "  </thead>\n",
       "  <tbody>\n",
       "    <tr>\n",
       "      <th>1414</th>\n",
       "      <td>2015</td>\n",
       "      <td>Intentional self-harm (suicide) (*U03,X60-X84,...</td>\n",
       "      <td>Suicide</td>\n",
       "      <td>Oregon</td>\n",
       "      <td>762</td>\n",
       "      <td>17.8</td>\n",
       "    </tr>\n",
       "    <tr>\n",
       "      <th>1747</th>\n",
       "      <td>2014</td>\n",
       "      <td>Diabetes mellitus (E10-E14)</td>\n",
       "      <td>Diabetes</td>\n",
       "      <td>Illinois</td>\n",
       "      <td>2712</td>\n",
       "      <td>18.7</td>\n",
       "    </tr>\n",
       "    <tr>\n",
       "      <th>3053</th>\n",
       "      <td>2012</td>\n",
       "      <td>Nephritis, nephrotic syndrome and nephrosis (N...</td>\n",
       "      <td>Kidney disease</td>\n",
       "      <td>Utah</td>\n",
       "      <td>270</td>\n",
       "      <td>12.4</td>\n",
       "    </tr>\n",
       "    <tr>\n",
       "      <th>78</th>\n",
       "      <td>2017</td>\n",
       "      <td>Alzheimer's disease (G30)</td>\n",
       "      <td>Alzheimer's disease</td>\n",
       "      <td>Nebraska</td>\n",
       "      <td>698</td>\n",
       "      <td>28.5</td>\n",
       "    </tr>\n",
       "    <tr>\n",
       "      <th>9051</th>\n",
       "      <td>2000</td>\n",
       "      <td>Intentional self-harm (suicide) (*U03,X60-X84,...</td>\n",
       "      <td>Suicide</td>\n",
       "      <td>Mississippi</td>\n",
       "      <td>294</td>\n",
       "      <td>10.5</td>\n",
       "    </tr>\n",
       "    <tr>\n",
       "      <th>6204</th>\n",
       "      <td>2005</td>\n",
       "      <td>Alzheimer's disease (G30)</td>\n",
       "      <td>Alzheimer's disease</td>\n",
       "      <td>North Carolina</td>\n",
       "      <td>2417</td>\n",
       "      <td>30.5</td>\n",
       "    </tr>\n",
       "    <tr>\n",
       "      <th>982</th>\n",
       "      <td>2016</td>\n",
       "      <td>Nephritis, nephrotic syndrome and nephrosis (N...</td>\n",
       "      <td>Kidney disease</td>\n",
       "      <td>Illinois</td>\n",
       "      <td>2518</td>\n",
       "      <td>17.0</td>\n",
       "    </tr>\n",
       "    <tr>\n",
       "      <th>5670</th>\n",
       "      <td>2006</td>\n",
       "      <td>Alzheimer's disease (G30)</td>\n",
       "      <td>Alzheimer's disease</td>\n",
       "      <td>Florida</td>\n",
       "      <td>4689</td>\n",
       "      <td>19.3</td>\n",
       "    </tr>\n",
       "    <tr>\n",
       "      <th>566</th>\n",
       "      <td>2016</td>\n",
       "      <td>Alzheimer's disease (G30)</td>\n",
       "      <td>Alzheimer's disease</td>\n",
       "      <td>Colorado</td>\n",
       "      <td>1835</td>\n",
       "      <td>34.7</td>\n",
       "    </tr>\n",
       "    <tr>\n",
       "      <th>4207</th>\n",
       "      <td>2009</td>\n",
       "      <td>Cerebrovascular diseases (I60-I69)</td>\n",
       "      <td>Stroke</td>\n",
       "      <td>Missouri</td>\n",
       "      <td>3017</td>\n",
       "      <td>44.9</td>\n",
       "    </tr>\n",
       "  </tbody>\n",
       "</table>\n",
       "</div>"
      ],
      "text/plain": [
       "      Year                                     113 Cause Name  \\\n",
       "1414  2015  Intentional self-harm (suicide) (*U03,X60-X84,...   \n",
       "1747  2014                        Diabetes mellitus (E10-E14)   \n",
       "3053  2012  Nephritis, nephrotic syndrome and nephrosis (N...   \n",
       "78    2017                          Alzheimer's disease (G30)   \n",
       "9051  2000  Intentional self-harm (suicide) (*U03,X60-X84,...   \n",
       "6204  2005                          Alzheimer's disease (G30)   \n",
       "982   2016  Nephritis, nephrotic syndrome and nephrosis (N...   \n",
       "5670  2006                          Alzheimer's disease (G30)   \n",
       "566   2016                          Alzheimer's disease (G30)   \n",
       "4207  2009                 Cerebrovascular diseases (I60-I69)   \n",
       "\n",
       "               Cause Name           State  Deaths  Age-adjusted Death Rate  \n",
       "1414              Suicide          Oregon     762                     17.8  \n",
       "1747             Diabetes        Illinois    2712                     18.7  \n",
       "3053       Kidney disease            Utah     270                     12.4  \n",
       "78    Alzheimer's disease        Nebraska     698                     28.5  \n",
       "9051              Suicide     Mississippi     294                     10.5  \n",
       "6204  Alzheimer's disease  North Carolina    2417                     30.5  \n",
       "982        Kidney disease        Illinois    2518                     17.0  \n",
       "5670  Alzheimer's disease         Florida    4689                     19.3  \n",
       "566   Alzheimer's disease        Colorado    1835                     34.7  \n",
       "4207               Stroke        Missouri    3017                     44.9  "
      ]
     },
     "execution_count": 35,
     "metadata": {},
     "output_type": "execute_result"
    }
   ],
   "source": [
    "df.sample(10)"
   ]
  },
  {
   "cell_type": "code",
   "execution_count": 36,
   "id": "1b867ba0",
   "metadata": {},
   "outputs": [
    {
     "name": "stdout",
     "output_type": "stream",
     "text": [
      "Total deaths: 36,280,583\n"
     ]
    }
   ],
   "source": [
    "sum = df['Deaths'].sum()\n",
    "sum_fm = format(sum, ',')\n",
    "\n",
    "print('Total deaths:', sum_fm)"
   ]
  },
  {
   "cell_type": "code",
   "execution_count": 37,
   "id": "008b0a5c",
   "metadata": {},
   "outputs": [
    {
     "data": {
      "text/html": [
       "<div>\n",
       "<style scoped>\n",
       "    .dataframe tbody tr th:only-of-type {\n",
       "        vertical-align: middle;\n",
       "    }\n",
       "\n",
       "    .dataframe tbody tr th {\n",
       "        vertical-align: top;\n",
       "    }\n",
       "\n",
       "    .dataframe thead th {\n",
       "        text-align: right;\n",
       "    }\n",
       "</style>\n",
       "<table border=\"1\" class=\"dataframe\">\n",
       "  <thead>\n",
       "    <tr style=\"text-align: right;\">\n",
       "      <th></th>\n",
       "      <th>Year</th>\n",
       "      <th>113 Cause Name</th>\n",
       "      <th>Cause Name</th>\n",
       "      <th>State</th>\n",
       "      <th>Deaths</th>\n",
       "      <th>Age-adjusted Death Rate</th>\n",
       "    </tr>\n",
       "  </thead>\n",
       "  <tbody>\n",
       "    <tr>\n",
       "      <th>4</th>\n",
       "      <td>2017</td>\n",
       "      <td>Accidents (unintentional injuries) (V01-X59,Y8...</td>\n",
       "      <td>Unintentional injuries</td>\n",
       "      <td>California</td>\n",
       "      <td>13840</td>\n",
       "      <td>33.2</td>\n",
       "    </tr>\n",
       "    <tr>\n",
       "      <th>55</th>\n",
       "      <td>2017</td>\n",
       "      <td>Alzheimer's disease (G30)</td>\n",
       "      <td>Alzheimer's disease</td>\n",
       "      <td>California</td>\n",
       "      <td>16238</td>\n",
       "      <td>37.1</td>\n",
       "    </tr>\n",
       "    <tr>\n",
       "      <th>106</th>\n",
       "      <td>2017</td>\n",
       "      <td>Cerebrovascular diseases (I60-I69)</td>\n",
       "      <td>Stroke</td>\n",
       "      <td>California</td>\n",
       "      <td>16355</td>\n",
       "      <td>37.6</td>\n",
       "    </tr>\n",
       "    <tr>\n",
       "      <th>157</th>\n",
       "      <td>2017</td>\n",
       "      <td>Chronic lower respiratory diseases (J40-J47)</td>\n",
       "      <td>CLRD</td>\n",
       "      <td>California</td>\n",
       "      <td>13881</td>\n",
       "      <td>32.2</td>\n",
       "    </tr>\n",
       "    <tr>\n",
       "      <th>208</th>\n",
       "      <td>2017</td>\n",
       "      <td>Diabetes mellitus (E10-E14)</td>\n",
       "      <td>Diabetes</td>\n",
       "      <td>California</td>\n",
       "      <td>9595</td>\n",
       "      <td>22.1</td>\n",
       "    </tr>\n",
       "    <tr>\n",
       "      <th>259</th>\n",
       "      <td>2017</td>\n",
       "      <td>Diseases of heart (I00-I09,I11,I13,I20-I51)</td>\n",
       "      <td>Heart disease</td>\n",
       "      <td>California</td>\n",
       "      <td>62797</td>\n",
       "      <td>142.9</td>\n",
       "    </tr>\n",
       "    <tr>\n",
       "      <th>310</th>\n",
       "      <td>2017</td>\n",
       "      <td>Influenza and pneumonia (J09-J18)</td>\n",
       "      <td>Influenza and pneumonia</td>\n",
       "      <td>California</td>\n",
       "      <td>6340</td>\n",
       "      <td>14.6</td>\n",
       "    </tr>\n",
       "    <tr>\n",
       "      <th>361</th>\n",
       "      <td>2017</td>\n",
       "      <td>Intentional self-harm (suicide) (*U03,X60-X84,...</td>\n",
       "      <td>Suicide</td>\n",
       "      <td>California</td>\n",
       "      <td>4312</td>\n",
       "      <td>10.5</td>\n",
       "    </tr>\n",
       "    <tr>\n",
       "      <th>412</th>\n",
       "      <td>2017</td>\n",
       "      <td>Malignant neoplasms (C00-C97)</td>\n",
       "      <td>Cancer</td>\n",
       "      <td>California</td>\n",
       "      <td>59516</td>\n",
       "      <td>136.8</td>\n",
       "    </tr>\n",
       "    <tr>\n",
       "      <th>463</th>\n",
       "      <td>2017</td>\n",
       "      <td>Nephritis, nephrotic syndrome and nephrosis (N...</td>\n",
       "      <td>Kidney disease</td>\n",
       "      <td>California</td>\n",
       "      <td>3887</td>\n",
       "      <td>8.9</td>\n",
       "    </tr>\n",
       "  </tbody>\n",
       "</table>\n",
       "</div>"
      ],
      "text/plain": [
       "     Year                                     113 Cause Name  \\\n",
       "4    2017  Accidents (unintentional injuries) (V01-X59,Y8...   \n",
       "55   2017                          Alzheimer's disease (G30)   \n",
       "106  2017                 Cerebrovascular diseases (I60-I69)   \n",
       "157  2017       Chronic lower respiratory diseases (J40-J47)   \n",
       "208  2017                        Diabetes mellitus (E10-E14)   \n",
       "259  2017        Diseases of heart (I00-I09,I11,I13,I20-I51)   \n",
       "310  2017                  Influenza and pneumonia (J09-J18)   \n",
       "361  2017  Intentional self-harm (suicide) (*U03,X60-X84,...   \n",
       "412  2017                      Malignant neoplasms (C00-C97)   \n",
       "463  2017  Nephritis, nephrotic syndrome and nephrosis (N...   \n",
       "\n",
       "                  Cause Name       State  Deaths  Age-adjusted Death Rate  \n",
       "4     Unintentional injuries  California   13840                     33.2  \n",
       "55       Alzheimer's disease  California   16238                     37.1  \n",
       "106                   Stroke  California   16355                     37.6  \n",
       "157                     CLRD  California   13881                     32.2  \n",
       "208                 Diabetes  California    9595                     22.1  \n",
       "259            Heart disease  California   62797                    142.9  \n",
       "310  Influenza and pneumonia  California    6340                     14.6  \n",
       "361                  Suicide  California    4312                     10.5  \n",
       "412                   Cancer  California   59516                    136.8  \n",
       "463           Kidney disease  California    3887                      8.9  "
      ]
     },
     "execution_count": 37,
     "metadata": {},
     "output_type": "execute_result"
    }
   ],
   "source": [
    "df_ca = df[(df.Year == 2017) & (df.State == 'California')]\n",
    "df_ca"
   ]
  },
  {
   "cell_type": "code",
   "execution_count": 38,
   "id": "4bf232e8",
   "metadata": {},
   "outputs": [
    {
     "name": "stdout",
     "output_type": "stream",
     "text": [
      "Total deaths of diabetes : 1,399,943\n",
      "Total deaths of suicide between 2015-2017 : 136,331\n"
     ]
    }
   ],
   "source": [
    "sum_diabetes_sum = df[df['Cause Name'] == 'Diabetes']['Deaths'].sum()\n",
    "\n",
    "print('Total deaths of diabetes :', format(sum_diabetes_sum, ','))\n",
    "\n",
    "suicide_2015_2017 = df[(df['Cause Name'] == 'Suicide') &\n",
    "                       (df['Year'] >= 2015) & (df['Year'] <= 2017)]\n",
    "\n",
    "sum_suicide = suicide_2015_2017['Deaths'].sum()\n",
    "\n",
    "print('Total deaths of suicide between 2015-2017 :', \n",
    "      format(sum_suicide, ','))"
   ]
  },
  {
   "cell_type": "code",
   "execution_count": 40,
   "id": "29f02da8",
   "metadata": {},
   "outputs": [
    {
     "data": {
      "text/html": [
       "<style  type=\"text/css\" >\n",
       "</style><table id=\"T_ebc7b_\" ><thead>    <tr>        <th class=\"blank level0\" ></th>        <th class=\"col_heading level0 col0\" >Deaths</th>    </tr>    <tr>        <th class=\"index_name level0\" >Year</th>        <th class=\"blank\" ></th>    </tr></thead><tbody>\n",
       "                <tr>\n",
       "                        <th id=\"T_ebc7b_level0_row0\" class=\"row_heading level0 row0\" >2010</th>\n",
       "                        <td id=\"T_ebc7b_row0_col0\" class=\"data row0 col0\" >1,852,349</td>\n",
       "            </tr>\n",
       "            <tr>\n",
       "                        <th id=\"T_ebc7b_level0_row1\" class=\"row_heading level0 row1\" >2011</th>\n",
       "                        <td id=\"T_ebc7b_row1_col0\" class=\"data row1 col0\" >1,869,321</td>\n",
       "            </tr>\n",
       "            <tr>\n",
       "                        <th id=\"T_ebc7b_level0_row2\" class=\"row_heading level0 row2\" >2012</th>\n",
       "                        <td id=\"T_ebc7b_row2_col0\" class=\"data row2 col0\" >1,876,588</td>\n",
       "            </tr>\n",
       "            <tr>\n",
       "                        <th id=\"T_ebc7b_level0_row3\" class=\"row_heading level0 row3\" >2013</th>\n",
       "                        <td id=\"T_ebc7b_row3_col0\" class=\"data row3 col0\" >1,910,311</td>\n",
       "            </tr>\n",
       "            <tr>\n",
       "                        <th id=\"T_ebc7b_level0_row4\" class=\"row_heading level0 row4\" >2014</th>\n",
       "                        <td id=\"T_ebc7b_row4_col0\" class=\"data row4 col0\" >1,938,408</td>\n",
       "            </tr>\n",
       "            <tr>\n",
       "                        <th id=\"T_ebc7b_level0_row5\" class=\"row_heading level0 row5\" >2015</th>\n",
       "                        <td id=\"T_ebc7b_row5_col0\" class=\"data row5 col0\" >2,013,017</td>\n",
       "            </tr>\n",
       "            <tr>\n",
       "                        <th id=\"T_ebc7b_level0_row6\" class=\"row_heading level0 row6\" >2016</th>\n",
       "                        <td id=\"T_ebc7b_row6_col0\" class=\"data row6 col0\" >2,034,119</td>\n",
       "            </tr>\n",
       "            <tr>\n",
       "                        <th id=\"T_ebc7b_level0_row7\" class=\"row_heading level0 row7\" >2017</th>\n",
       "                        <td id=\"T_ebc7b_row7_col0\" class=\"data row7 col0\" >2,081,531</td>\n",
       "            </tr>\n",
       "    </tbody></table>"
      ],
      "text/plain": [
       "<pandas.io.formats.style.Styler at 0x2328888f040>"
      ]
     },
     "execution_count": 40,
     "metadata": {},
     "output_type": "execute_result"
    }
   ],
   "source": [
    "df_y10 = df[df.Year >= 2010].groupby('Year').sum()\n",
    "df_y10[['Deaths']].style.format('{:,}')"
   ]
  },
  {
   "cell_type": "code",
   "execution_count": 41,
   "id": "532d0f86",
   "metadata": {},
   "outputs": [
    {
     "data": {
      "text/html": [
       "<style  type=\"text/css\" >\n",
       "</style><table id=\"T_f0623_\" ><thead>    <tr>        <th class=\"blank level0\" ></th>        <th class=\"col_heading level0 col0\" >Deaths</th>    </tr>    <tr>        <th class=\"index_name level0\" >State</th>        <th class=\"blank\" ></th>    </tr></thead><tbody>\n",
       "                <tr>\n",
       "                        <th id=\"T_f0623_level0_row0\" class=\"row_heading level0 row0\" >California</th>\n",
       "                        <td id=\"T_f0623_row0_col0\" class=\"data row0 col0\" >3,594,261</td>\n",
       "            </tr>\n",
       "            <tr>\n",
       "                        <th id=\"T_f0623_level0_row1\" class=\"row_heading level0 row1\" >Florida</th>\n",
       "                        <td id=\"T_f0623_row1_col0\" class=\"data row1 col0\" >2,533,472</td>\n",
       "            </tr>\n",
       "            <tr>\n",
       "                        <th id=\"T_f0623_level0_row2\" class=\"row_heading level0 row2\" >Texas</th>\n",
       "                        <td id=\"T_f0623_row2_col0\" class=\"data row2 col0\" >2,367,695</td>\n",
       "            </tr>\n",
       "            <tr>\n",
       "                        <th id=\"T_f0623_level0_row3\" class=\"row_heading level0 row3\" >New York</th>\n",
       "                        <td id=\"T_f0623_row3_col0\" class=\"data row3 col0\" >2,264,120</td>\n",
       "            </tr>\n",
       "            <tr>\n",
       "                        <th id=\"T_f0623_level0_row4\" class=\"row_heading level0 row4\" >Pennsylvania</th>\n",
       "                        <td id=\"T_f0623_row4_col0\" class=\"data row4 col0\" >1,854,953</td>\n",
       "            </tr>\n",
       "            <tr>\n",
       "                        <th id=\"T_f0623_level0_row5\" class=\"row_heading level0 row5\" >Ohio</th>\n",
       "                        <td id=\"T_f0623_row5_col0\" class=\"data row5 col0\" >1,605,250</td>\n",
       "            </tr>\n",
       "            <tr>\n",
       "                        <th id=\"T_f0623_level0_row6\" class=\"row_heading level0 row6\" >Illinois</th>\n",
       "                        <td id=\"T_f0623_row6_col0\" class=\"data row6 col0\" >1,508,039</td>\n",
       "            </tr>\n",
       "            <tr>\n",
       "                        <th id=\"T_f0623_level0_row7\" class=\"row_heading level0 row7\" >Michigan</th>\n",
       "                        <td id=\"T_f0623_row7_col0\" class=\"data row7 col0\" >1,313,813</td>\n",
       "            </tr>\n",
       "            <tr>\n",
       "                        <th id=\"T_f0623_level0_row8\" class=\"row_heading level0 row8\" >North Carolina</th>\n",
       "                        <td id=\"T_f0623_row8_col0\" class=\"data row8 col0\" >1,115,953</td>\n",
       "            </tr>\n",
       "            <tr>\n",
       "                        <th id=\"T_f0623_level0_row9\" class=\"row_heading level0 row9\" >New Jersey</th>\n",
       "                        <td id=\"T_f0623_row9_col0\" class=\"data row9 col0\" >1,030,622</td>\n",
       "            </tr>\n",
       "    </tbody></table>"
      ],
      "text/plain": [
       "<pandas.io.formats.style.Styler at 0x23287641370>"
      ]
     },
     "execution_count": 41,
     "metadata": {},
     "output_type": "execute_result"
    }
   ],
   "source": [
    "death_10 = df.groupby('State').sum().sort_values(by='Deaths', ascending=False)\n",
    "death_10[['Deaths']].head(10).style.format('{:,}')"
   ]
  },
  {
   "cell_type": "code",
   "execution_count": 42,
   "id": "bde454f7",
   "metadata": {},
   "outputs": [
    {
     "data": {
      "text/html": [
       "<style  type=\"text/css\" >\n",
       "</style><table id=\"T_43692_\" ><thead>    <tr>        <th class=\"blank level0\" ></th>        <th class=\"col_heading level0 col0\" >Deaths</th>    </tr>    <tr>        <th class=\"index_name level0\" >Cause Name</th>        <th class=\"blank\" ></th>    </tr></thead><tbody>\n",
       "                <tr>\n",
       "                        <th id=\"T_43692_level0_row0\" class=\"row_heading level0 row0\" >Heart disease</th>\n",
       "                        <td id=\"T_43692_row0_col0\" class=\"data row0 col0\" >12,222,640</td>\n",
       "            </tr>\n",
       "            <tr>\n",
       "                        <th id=\"T_43692_level0_row1\" class=\"row_heading level0 row1\" >Cancer</th>\n",
       "                        <td id=\"T_43692_row1_col0\" class=\"data row1 col0\" >10,843,644</td>\n",
       "            </tr>\n",
       "            <tr>\n",
       "                        <th id=\"T_43692_level0_row2\" class=\"row_heading level0 row2\" >Stroke</th>\n",
       "                        <td id=\"T_43692_row2_col0\" class=\"data row2 col0\" >2,726,523</td>\n",
       "            </tr>\n",
       "            <tr>\n",
       "                        <th id=\"T_43692_level0_row3\" class=\"row_heading level0 row3\" >CLRD</th>\n",
       "                        <td id=\"T_43692_row3_col0\" class=\"data row3 col0\" >2,594,927</td>\n",
       "            </tr>\n",
       "            <tr>\n",
       "                        <th id=\"T_43692_level0_row4\" class=\"row_heading level0 row4\" >Unintentional injuries</th>\n",
       "                        <td id=\"T_43692_row4_col0\" class=\"data row4 col0\" >2,347,820</td>\n",
       "            </tr>\n",
       "            <tr>\n",
       "                        <th id=\"T_43692_level0_row5\" class=\"row_heading level0 row5\" >Alzheimer's disease</th>\n",
       "                        <td id=\"T_43692_row5_col0\" class=\"data row5 col0\" >1,494,816</td>\n",
       "            </tr>\n",
       "            <tr>\n",
       "                        <th id=\"T_43692_level0_row6\" class=\"row_heading level0 row6\" >Diabetes</th>\n",
       "                        <td id=\"T_43692_row6_col0\" class=\"data row6 col0\" >1,399,943</td>\n",
       "            </tr>\n",
       "            <tr>\n",
       "                        <th id=\"T_43692_level0_row7\" class=\"row_heading level0 row7\" >Influenza and pneumonia</th>\n",
       "                        <td id=\"T_43692_row7_col0\" class=\"data row7 col0\" >1,094,641</td>\n",
       "            </tr>\n",
       "            <tr>\n",
       "                        <th id=\"T_43692_level0_row8\" class=\"row_heading level0 row8\" >Kidney disease</th>\n",
       "                        <td id=\"T_43692_row8_col0\" class=\"data row8 col0\" >858,613</td>\n",
       "            </tr>\n",
       "            <tr>\n",
       "                        <th id=\"T_43692_level0_row9\" class=\"row_heading level0 row9\" >Suicide</th>\n",
       "                        <td id=\"T_43692_row9_col0\" class=\"data row9 col0\" >697,016</td>\n",
       "            </tr>\n",
       "    </tbody></table>"
      ],
      "text/plain": [
       "<pandas.io.formats.style.Styler at 0x2328888f7c0>"
      ]
     },
     "execution_count": 42,
     "metadata": {},
     "output_type": "execute_result"
    }
   ],
   "source": [
    "cause_des = df.groupby(['Cause Name']).sum().sort_values(by='Deaths', ascending=False)\n",
    "cause_des[['Deaths']].style.format('{:,}')"
   ]
  },
  {
   "cell_type": "code",
   "execution_count": 44,
   "id": "7a432e79",
   "metadata": {},
   "outputs": [
    {
     "data": {
      "text/plain": [
       "<AxesSubplot:xlabel='Year'>"
      ]
     },
     "execution_count": 44,
     "metadata": {},
     "output_type": "execute_result"
    },
    {
     "data": {
      "image/png": "[encoded data removed]",
      "text/plain": [
       "<Figure size 576x396 with 1 Axes>"
      ]
     },
     "metadata": {},
     "output_type": "display_data"
    }
   ],
   "source": [
    "df_y10[['Deaths']].plot(kind='line', style='ro-')"
   ]
  },
  {
   "cell_type": "code",
   "execution_count": 45,
   "id": "864f5201",
   "metadata": {},
   "outputs": [
    {
     "data": {
      "image/png": "[encoded data removed]",
      "text/plain": [
       "<Figure size 576x396 with 1 Axes>"
      ]
     },
     "metadata": {},
     "output_type": "display_data"
    }
   ],
   "source": [
    "df_plot = df[(df.Year >= 2008) & (df['Cause Name'] == 'Kidney disease')]\n",
    "df_plot = df_plot.groupby('Year').sum()\n",
    "\n",
    "plt.plot(df_plot.index, df_plot['Deaths'], 'mD-')\n",
    "plt.show()"
   ]
  },
  {
   "cell_type": "code",
   "execution_count": 46,
   "id": "d939079d",
   "metadata": {},
   "outputs": [
    {
     "data": {
      "text/plain": [
       "<AxesSubplot:xlabel='Cause Name'>"
      ]
     },
     "execution_count": 46,
     "metadata": {},
     "output_type": "execute_result"
    },
    {
     "data": {
      "image/png": "[encoded data removed]",
      "text/plain": [
       "<Figure size 576x396 with 1 Axes>"
      ]
     },
     "metadata": {},
     "output_type": "display_data"
    }
   ],
   "source": [
    "plt.style.use('seaborn')\n",
    "plt.rcParams['font.sans-serif'] = 'tahoma'\n",
    "plt.rcParams['font.family'] = 'tahoma'\n",
    "plt.rcParams['font.size'] = 14\n",
    "\n",
    "df = pd.read_csv('data-sci\\\\NCHS2.csv')\n",
    "df = df[df.State == 'California'].groupby('Cause Name').sum()\n",
    "\n",
    "#display(df)\n",
    "\n",
    "df[['Deaths']].plot.bar(color='y')"
   ]
  },
  {
   "cell_type": "code",
   "execution_count": null,
   "id": "e0df4de6",
   "metadata": {},
   "outputs": [],
   "source": []
  }
 ],
 "metadata": {
  "kernelspec": {
   "display_name": "Python 3 (ipykernel)",
   "language": "python",
   "name": "python3"
  },
  "language_info": {
   "codemirror_mode": {
    "name": "ipython",
    "version": 3
   },
   "file_extension": ".py",
   "mimetype": "text/x-python",
   "name": "python",
   "nbconvert_exporter": "python",
   "pygments_lexer": "ipython3",
   "version": "3.8.8"
  }
 },
 "nbformat": 4,
 "nbformat_minor": 5
}
