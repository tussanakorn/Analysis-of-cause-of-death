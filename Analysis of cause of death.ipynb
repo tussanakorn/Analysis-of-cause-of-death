{
 "cells": [
  {
   "cell_type": "markdown",
   "id": "f6e3c723",
   "metadata": {},
   "source": [
    "### The most common cause of death in Americans between 1999 and 2017."
   ]
  },
  {
   "cell_type": "code",
   "execution_count": 85,
   "id": "9114819c",
   "metadata": {},
   "outputs": [],
   "source": [
    "import pandas as pd\n",
    "import matplotlib.pyplot as plt\n",
    "\n",
    "df = pd.read_csv('data-sci\\\\NCHS2.csv')"
   ]
  },
  {
   "cell_type": "code",
   "execution_count": 86,
   "id": "948899e1",
   "metadata": {},
   "outputs": [
    {
     "data": {
      "text/html": [
       "<div>\n",
       "<style scoped>\n",
       "    .dataframe tbody tr th:only-of-type {\n",
       "        vertical-align: middle;\n",
       "    }\n",
       "\n",
       "    .dataframe tbody tr th {\n",
       "        vertical-align: top;\n",
       "    }\n",
       "\n",
       "    .dataframe thead th {\n",
       "        text-align: right;\n",
       "    }\n",
       "</style>\n",
       "<table border=\"1\" class=\"dataframe\">\n",
       "  <thead>\n",
       "    <tr style=\"text-align: right;\">\n",
       "      <th></th>\n",
       "      <th>Year</th>\n",
       "      <th>113 Cause Name</th>\n",
       "      <th>Cause Name</th>\n",
       "      <th>State</th>\n",
       "      <th>Deaths</th>\n",
       "      <th>Age-adjusted Death Rate</th>\n",
       "    </tr>\n",
       "  </thead>\n",
       "  <tbody>\n",
       "    <tr>\n",
       "      <th>9133</th>\n",
       "      <td>2000</td>\n",
       "      <td>Nephritis, nephrotic syndrome and nephrosis (N...</td>\n",
       "      <td>Kidney disease</td>\n",
       "      <td>California</td>\n",
       "      <td>1785</td>\n",
       "      <td>6.2</td>\n",
       "    </tr>\n",
       "    <tr>\n",
       "      <th>7711</th>\n",
       "      <td>2002</td>\n",
       "      <td>Alzheimer's disease (G30)</td>\n",
       "      <td>Alzheimer's disease</td>\n",
       "      <td>Georgia</td>\n",
       "      <td>1525</td>\n",
       "      <td>25.5</td>\n",
       "    </tr>\n",
       "    <tr>\n",
       "      <th>4213</th>\n",
       "      <td>2009</td>\n",
       "      <td>Cerebrovascular diseases (I60-I69)</td>\n",
       "      <td>Stroke</td>\n",
       "      <td>New Mexico</td>\n",
       "      <td>726</td>\n",
       "      <td>35.2</td>\n",
       "    </tr>\n",
       "    <tr>\n",
       "      <th>7695</th>\n",
       "      <td>2002</td>\n",
       "      <td>Accidents (unintentional injuries) (V01-X59,Y8...</td>\n",
       "      <td>Unintentional injuries</td>\n",
       "      <td>Vermont</td>\n",
       "      <td>240</td>\n",
       "      <td>37.8</td>\n",
       "    </tr>\n",
       "    <tr>\n",
       "      <th>467</th>\n",
       "      <td>2017</td>\n",
       "      <td>Nephritis, nephrotic syndrome and nephrosis (N...</td>\n",
       "      <td>Kidney disease</td>\n",
       "      <td>District of Columbia</td>\n",
       "      <td>67</td>\n",
       "      <td>10.0</td>\n",
       "    </tr>\n",
       "    <tr>\n",
       "      <th>5297</th>\n",
       "      <td>2007</td>\n",
       "      <td>Chronic lower respiratory diseases (J40-J47)</td>\n",
       "      <td>CLRD</td>\n",
       "      <td>Utah</td>\n",
       "      <td>617</td>\n",
       "      <td>33.2</td>\n",
       "    </tr>\n",
       "    <tr>\n",
       "      <th>8700</th>\n",
       "      <td>2000</td>\n",
       "      <td>Accidents (unintentional injuries) (V01-X59,Y8...</td>\n",
       "      <td>Unintentional injuries</td>\n",
       "      <td>New Jersey</td>\n",
       "      <td>2284</td>\n",
       "      <td>26.7</td>\n",
       "    </tr>\n",
       "    <tr>\n",
       "      <th>354</th>\n",
       "      <td>2017</td>\n",
       "      <td>Influenza and pneumonia (J09-J18)</td>\n",
       "      <td>Influenza and pneumonia</td>\n",
       "      <td>West Virginia</td>\n",
       "      <td>458</td>\n",
       "      <td>18.2</td>\n",
       "    </tr>\n",
       "    <tr>\n",
       "      <th>9256</th>\n",
       "      <td>1999</td>\n",
       "      <td>Alzheimer's disease (G30)</td>\n",
       "      <td>Alzheimer's disease</td>\n",
       "      <td>Missouri</td>\n",
       "      <td>914</td>\n",
       "      <td>15.0</td>\n",
       "    </tr>\n",
       "    <tr>\n",
       "      <th>6311</th>\n",
       "      <td>2005</td>\n",
       "      <td>Chronic lower respiratory diseases (J40-J47)</td>\n",
       "      <td>CLRD</td>\n",
       "      <td>Pennsylvania</td>\n",
       "      <td>6149</td>\n",
       "      <td>39.3</td>\n",
       "    </tr>\n",
       "  </tbody>\n",
       "</table>\n",
       "</div>"
      ],
      "text/plain": [
       "      Year                                     113 Cause Name  \\\n",
       "9133  2000  Nephritis, nephrotic syndrome and nephrosis (N...   \n",
       "7711  2002                          Alzheimer's disease (G30)   \n",
       "4213  2009                 Cerebrovascular diseases (I60-I69)   \n",
       "7695  2002  Accidents (unintentional injuries) (V01-X59,Y8...   \n",
       "467   2017  Nephritis, nephrotic syndrome and nephrosis (N...   \n",
       "5297  2007       Chronic lower respiratory diseases (J40-J47)   \n",
       "8700  2000  Accidents (unintentional injuries) (V01-X59,Y8...   \n",
       "354   2017                  Influenza and pneumonia (J09-J18)   \n",
       "9256  1999                          Alzheimer's disease (G30)   \n",
       "6311  2005       Chronic lower respiratory diseases (J40-J47)   \n",
       "\n",
       "                   Cause Name                 State  Deaths  \\\n",
       "9133           Kidney disease            California    1785   \n",
       "7711      Alzheimer's disease               Georgia    1525   \n",
       "4213                   Stroke            New Mexico     726   \n",
       "7695   Unintentional injuries               Vermont     240   \n",
       "467            Kidney disease  District of Columbia      67   \n",
       "5297                     CLRD                  Utah     617   \n",
       "8700   Unintentional injuries            New Jersey    2284   \n",
       "354   Influenza and pneumonia         West Virginia     458   \n",
       "9256      Alzheimer's disease              Missouri     914   \n",
       "6311                     CLRD          Pennsylvania    6149   \n",
       "\n",
       "      Age-adjusted Death Rate  \n",
       "9133                      6.2  \n",
       "7711                     25.5  \n",
       "4213                     35.2  \n",
       "7695                     37.8  \n",
       "467                      10.0  \n",
       "5297                     33.2  \n",
       "8700                     26.7  \n",
       "354                      18.2  \n",
       "9256                     15.0  \n",
       "6311                     39.3  "
      ]
     },
     "execution_count": 86,
     "metadata": {},
     "output_type": "execute_result"
    }
   ],
   "source": [
    "df.sample(10)"
   ]
  },
  {
   "cell_type": "code",
   "execution_count": 87,
   "id": "f56194b3",
   "metadata": {},
   "outputs": [
    {
     "name": "stdout",
     "output_type": "stream",
     "text": [
      "Total deaths: 36,280,583\n"
     ]
    }
   ],
   "source": [
    "sum = df['Deaths'].sum()\n",
    "sum_fm = format(sum, ',')\n",
    "\n",
    "print('Total deaths:', sum_fm)"
   ]
  },
  {
   "cell_type": "code",
   "execution_count": 88,
   "id": "885b3023",
   "metadata": {},
   "outputs": [
    {
     "data": {
      "text/html": [
       "<div>\n",
       "<style scoped>\n",
       "    .dataframe tbody tr th:only-of-type {\n",
       "        vertical-align: middle;\n",
       "    }\n",
       "\n",
       "    .dataframe tbody tr th {\n",
       "        vertical-align: top;\n",
       "    }\n",
       "\n",
       "    .dataframe thead th {\n",
       "        text-align: right;\n",
       "    }\n",
       "</style>\n",
       "<table border=\"1\" class=\"dataframe\">\n",
       "  <thead>\n",
       "    <tr style=\"text-align: right;\">\n",
       "      <th></th>\n",
       "      <th>Year</th>\n",
       "      <th>113 Cause Name</th>\n",
       "      <th>Cause Name</th>\n",
       "      <th>State</th>\n",
       "      <th>Deaths</th>\n",
       "      <th>Age-adjusted Death Rate</th>\n",
       "    </tr>\n",
       "  </thead>\n",
       "  <tbody>\n",
       "    <tr>\n",
       "      <th>4</th>\n",
       "      <td>2017</td>\n",
       "      <td>Accidents (unintentional injuries) (V01-X59,Y8...</td>\n",
       "      <td>Unintentional injuries</td>\n",
       "      <td>California</td>\n",
       "      <td>13840</td>\n",
       "      <td>33.2</td>\n",
       "    </tr>\n",
       "    <tr>\n",
       "      <th>55</th>\n",
       "      <td>2017</td>\n",
       "      <td>Alzheimer's disease (G30)</td>\n",
       "      <td>Alzheimer's disease</td>\n",
       "      <td>California</td>\n",
       "      <td>16238</td>\n",
       "      <td>37.1</td>\n",
       "    </tr>\n",
       "    <tr>\n",
       "      <th>106</th>\n",
       "      <td>2017</td>\n",
       "      <td>Cerebrovascular diseases (I60-I69)</td>\n",
       "      <td>Stroke</td>\n",
       "      <td>California</td>\n",
       "      <td>16355</td>\n",
       "      <td>37.6</td>\n",
       "    </tr>\n",
       "    <tr>\n",
       "      <th>157</th>\n",
       "      <td>2017</td>\n",
       "      <td>Chronic lower respiratory diseases (J40-J47)</td>\n",
       "      <td>CLRD</td>\n",
       "      <td>California</td>\n",
       "      <td>13881</td>\n",
       "      <td>32.2</td>\n",
       "    </tr>\n",
       "    <tr>\n",
       "      <th>208</th>\n",
       "      <td>2017</td>\n",
       "      <td>Diabetes mellitus (E10-E14)</td>\n",
       "      <td>Diabetes</td>\n",
       "      <td>California</td>\n",
       "      <td>9595</td>\n",
       "      <td>22.1</td>\n",
       "    </tr>\n",
       "    <tr>\n",
       "      <th>259</th>\n",
       "      <td>2017</td>\n",
       "      <td>Diseases of heart (I00-I09,I11,I13,I20-I51)</td>\n",
       "      <td>Heart disease</td>\n",
       "      <td>California</td>\n",
       "      <td>62797</td>\n",
       "      <td>142.9</td>\n",
       "    </tr>\n",
       "    <tr>\n",
       "      <th>310</th>\n",
       "      <td>2017</td>\n",
       "      <td>Influenza and pneumonia (J09-J18)</td>\n",
       "      <td>Influenza and pneumonia</td>\n",
       "      <td>California</td>\n",
       "      <td>6340</td>\n",
       "      <td>14.6</td>\n",
       "    </tr>\n",
       "    <tr>\n",
       "      <th>361</th>\n",
       "      <td>2017</td>\n",
       "      <td>Intentional self-harm (suicide) (*U03,X60-X84,...</td>\n",
       "      <td>Suicide</td>\n",
       "      <td>California</td>\n",
       "      <td>4312</td>\n",
       "      <td>10.5</td>\n",
       "    </tr>\n",
       "    <tr>\n",
       "      <th>412</th>\n",
       "      <td>2017</td>\n",
       "      <td>Malignant neoplasms (C00-C97)</td>\n",
       "      <td>Cancer</td>\n",
       "      <td>California</td>\n",
       "      <td>59516</td>\n",
       "      <td>136.8</td>\n",
       "    </tr>\n",
       "    <tr>\n",
       "      <th>463</th>\n",
       "      <td>2017</td>\n",
       "      <td>Nephritis, nephrotic syndrome and nephrosis (N...</td>\n",
       "      <td>Kidney disease</td>\n",
       "      <td>California</td>\n",
       "      <td>3887</td>\n",
       "      <td>8.9</td>\n",
       "    </tr>\n",
       "  </tbody>\n",
       "</table>\n",
       "</div>"
      ],
      "text/plain": [
       "     Year                                     113 Cause Name  \\\n",
       "4    2017  Accidents (unintentional injuries) (V01-X59,Y8...   \n",
       "55   2017                          Alzheimer's disease (G30)   \n",
       "106  2017                 Cerebrovascular diseases (I60-I69)   \n",
       "157  2017       Chronic lower respiratory diseases (J40-J47)   \n",
       "208  2017                        Diabetes mellitus (E10-E14)   \n",
       "259  2017        Diseases of heart (I00-I09,I11,I13,I20-I51)   \n",
       "310  2017                  Influenza and pneumonia (J09-J18)   \n",
       "361  2017  Intentional self-harm (suicide) (*U03,X60-X84,...   \n",
       "412  2017                      Malignant neoplasms (C00-C97)   \n",
       "463  2017  Nephritis, nephrotic syndrome and nephrosis (N...   \n",
       "\n",
       "                  Cause Name       State  Deaths  Age-adjusted Death Rate  \n",
       "4     Unintentional injuries  California   13840                     33.2  \n",
       "55       Alzheimer's disease  California   16238                     37.1  \n",
       "106                   Stroke  California   16355                     37.6  \n",
       "157                     CLRD  California   13881                     32.2  \n",
       "208                 Diabetes  California    9595                     22.1  \n",
       "259            Heart disease  California   62797                    142.9  \n",
       "310  Influenza and pneumonia  California    6340                     14.6  \n",
       "361                  Suicide  California    4312                     10.5  \n",
       "412                   Cancer  California   59516                    136.8  \n",
       "463           Kidney disease  California    3887                      8.9  "
      ]
     },
     "execution_count": 88,
     "metadata": {},
     "output_type": "execute_result"
    }
   ],
   "source": [
    "df_ca = df[(df.Year == 2017) & (df.State == 'California')]\n",
    "df_ca"
   ]
  },
  {
   "cell_type": "code",
   "execution_count": 89,
   "id": "d83366dd",
   "metadata": {},
   "outputs": [
    {
     "name": "stdout",
     "output_type": "stream",
     "text": [
      "Total deaths of diabetes : 1,399,943\n"
     ]
    }
   ],
   "source": [
    "sum_diabetes_sum = df[df['Cause Name'] == 'Diabetes']['Deaths'].sum()\n",
    "\n",
    "print('Total deaths of diabetes :', format(sum_diabetes_sum, ','))"
   ]
  },
  {
   "cell_type": "code",
   "execution_count": 90,
   "id": "c35c6b7f",
   "metadata": {},
   "outputs": [
    {
     "data": {
      "text/html": [
       "<style  type=\"text/css\" >\n",
       "</style><table id=\"T_ba23e_\" ><thead>    <tr>        <th class=\"blank level0\" ></th>        <th class=\"col_heading level0 col0\" >Deaths</th>    </tr>    <tr>        <th class=\"index_name level0\" >Year</th>        <th class=\"blank\" ></th>    </tr></thead><tbody>\n",
       "                <tr>\n",
       "                        <th id=\"T_ba23e_level0_row0\" class=\"row_heading level0 row0\" >2010</th>\n",
       "                        <td id=\"T_ba23e_row0_col0\" class=\"data row0 col0\" >1,852,349</td>\n",
       "            </tr>\n",
       "            <tr>\n",
       "                        <th id=\"T_ba23e_level0_row1\" class=\"row_heading level0 row1\" >2011</th>\n",
       "                        <td id=\"T_ba23e_row1_col0\" class=\"data row1 col0\" >1,869,321</td>\n",
       "            </tr>\n",
       "            <tr>\n",
       "                        <th id=\"T_ba23e_level0_row2\" class=\"row_heading level0 row2\" >2012</th>\n",
       "                        <td id=\"T_ba23e_row2_col0\" class=\"data row2 col0\" >1,876,588</td>\n",
       "            </tr>\n",
       "            <tr>\n",
       "                        <th id=\"T_ba23e_level0_row3\" class=\"row_heading level0 row3\" >2013</th>\n",
       "                        <td id=\"T_ba23e_row3_col0\" class=\"data row3 col0\" >1,910,311</td>\n",
       "            </tr>\n",
       "            <tr>\n",
       "                        <th id=\"T_ba23e_level0_row4\" class=\"row_heading level0 row4\" >2014</th>\n",
       "                        <td id=\"T_ba23e_row4_col0\" class=\"data row4 col0\" >1,938,408</td>\n",
       "            </tr>\n",
       "            <tr>\n",
       "                        <th id=\"T_ba23e_level0_row5\" class=\"row_heading level0 row5\" >2015</th>\n",
       "                        <td id=\"T_ba23e_row5_col0\" class=\"data row5 col0\" >2,013,017</td>\n",
       "            </tr>\n",
       "            <tr>\n",
       "                        <th id=\"T_ba23e_level0_row6\" class=\"row_heading level0 row6\" >2016</th>\n",
       "                        <td id=\"T_ba23e_row6_col0\" class=\"data row6 col0\" >2,034,119</td>\n",
       "            </tr>\n",
       "            <tr>\n",
       "                        <th id=\"T_ba23e_level0_row7\" class=\"row_heading level0 row7\" >2017</th>\n",
       "                        <td id=\"T_ba23e_row7_col0\" class=\"data row7 col0\" >2,081,531</td>\n",
       "            </tr>\n",
       "    </tbody></table>"
      ],
      "text/plain": [
       "<pandas.io.formats.style.Styler at 0x2328a2c5eb0>"
      ]
     },
     "execution_count": 90,
     "metadata": {},
     "output_type": "execute_result"
    }
   ],
   "source": [
    "df_y10 = df[df.Year >= 2010].groupby('Year').sum()\n",
    "df_y10[['Deaths']].style.format('{:,}')"
   ]
  },
  {
   "cell_type": "code",
   "execution_count": 91,
   "id": "58efc8ca",
   "metadata": {},
   "outputs": [
    {
     "data": {
      "text/html": [
       "<style  type=\"text/css\" >\n",
       "</style><table id=\"T_62485_\" ><thead>    <tr>        <th class=\"blank level0\" ></th>        <th class=\"col_heading level0 col0\" >Deaths</th>    </tr>    <tr>        <th class=\"index_name level0\" >State</th>        <th class=\"blank\" ></th>    </tr></thead><tbody>\n",
       "                <tr>\n",
       "                        <th id=\"T_62485_level0_row0\" class=\"row_heading level0 row0\" >California</th>\n",
       "                        <td id=\"T_62485_row0_col0\" class=\"data row0 col0\" >3,594,261</td>\n",
       "            </tr>\n",
       "            <tr>\n",
       "                        <th id=\"T_62485_level0_row1\" class=\"row_heading level0 row1\" >Florida</th>\n",
       "                        <td id=\"T_62485_row1_col0\" class=\"data row1 col0\" >2,533,472</td>\n",
       "            </tr>\n",
       "            <tr>\n",
       "                        <th id=\"T_62485_level0_row2\" class=\"row_heading level0 row2\" >Texas</th>\n",
       "                        <td id=\"T_62485_row2_col0\" class=\"data row2 col0\" >2,367,695</td>\n",
       "            </tr>\n",
       "            <tr>\n",
       "                        <th id=\"T_62485_level0_row3\" class=\"row_heading level0 row3\" >New York</th>\n",
       "                        <td id=\"T_62485_row3_col0\" class=\"data row3 col0\" >2,264,120</td>\n",
       "            </tr>\n",
       "            <tr>\n",
       "                        <th id=\"T_62485_level0_row4\" class=\"row_heading level0 row4\" >Pennsylvania</th>\n",
       "                        <td id=\"T_62485_row4_col0\" class=\"data row4 col0\" >1,854,953</td>\n",
       "            </tr>\n",
       "            <tr>\n",
       "                        <th id=\"T_62485_level0_row5\" class=\"row_heading level0 row5\" >Ohio</th>\n",
       "                        <td id=\"T_62485_row5_col0\" class=\"data row5 col0\" >1,605,250</td>\n",
       "            </tr>\n",
       "            <tr>\n",
       "                        <th id=\"T_62485_level0_row6\" class=\"row_heading level0 row6\" >Illinois</th>\n",
       "                        <td id=\"T_62485_row6_col0\" class=\"data row6 col0\" >1,508,039</td>\n",
       "            </tr>\n",
       "            <tr>\n",
       "                        <th id=\"T_62485_level0_row7\" class=\"row_heading level0 row7\" >Michigan</th>\n",
       "                        <td id=\"T_62485_row7_col0\" class=\"data row7 col0\" >1,313,813</td>\n",
       "            </tr>\n",
       "            <tr>\n",
       "                        <th id=\"T_62485_level0_row8\" class=\"row_heading level0 row8\" >North Carolina</th>\n",
       "                        <td id=\"T_62485_row8_col0\" class=\"data row8 col0\" >1,115,953</td>\n",
       "            </tr>\n",
       "            <tr>\n",
       "                        <th id=\"T_62485_level0_row9\" class=\"row_heading level0 row9\" >New Jersey</th>\n",
       "                        <td id=\"T_62485_row9_col0\" class=\"data row9 col0\" >1,030,622</td>\n",
       "            </tr>\n",
       "    </tbody></table>"
      ],
      "text/plain": [
       "<pandas.io.formats.style.Styler at 0x2328d203280>"
      ]
     },
     "execution_count": 91,
     "metadata": {},
     "output_type": "execute_result"
    }
   ],
   "source": [
    "death_10 = df.groupby('State').sum().sort_values(by='Deaths', ascending=False)\n",
    "death_10[['Deaths']].head(10).style.format('{:,}')"
   ]
  },
  {
   "cell_type": "code",
   "execution_count": 92,
   "id": "b004770d",
   "metadata": {},
   "outputs": [
    {
     "data": {
      "text/html": [
       "<style  type=\"text/css\" >\n",
       "</style><table id=\"T_8eb72_\" ><thead>    <tr>        <th class=\"blank level0\" ></th>        <th class=\"col_heading level0 col0\" >Deaths</th>    </tr>    <tr>        <th class=\"index_name level0\" >Cause Name</th>        <th class=\"blank\" ></th>    </tr></thead><tbody>\n",
       "                <tr>\n",
       "                        <th id=\"T_8eb72_level0_row0\" class=\"row_heading level0 row0\" >Heart disease</th>\n",
       "                        <td id=\"T_8eb72_row0_col0\" class=\"data row0 col0\" >12,222,640</td>\n",
       "            </tr>\n",
       "            <tr>\n",
       "                        <th id=\"T_8eb72_level0_row1\" class=\"row_heading level0 row1\" >Cancer</th>\n",
       "                        <td id=\"T_8eb72_row1_col0\" class=\"data row1 col0\" >10,843,644</td>\n",
       "            </tr>\n",
       "            <tr>\n",
       "                        <th id=\"T_8eb72_level0_row2\" class=\"row_heading level0 row2\" >Stroke</th>\n",
       "                        <td id=\"T_8eb72_row2_col0\" class=\"data row2 col0\" >2,726,523</td>\n",
       "            </tr>\n",
       "            <tr>\n",
       "                        <th id=\"T_8eb72_level0_row3\" class=\"row_heading level0 row3\" >CLRD</th>\n",
       "                        <td id=\"T_8eb72_row3_col0\" class=\"data row3 col0\" >2,594,927</td>\n",
       "            </tr>\n",
       "            <tr>\n",
       "                        <th id=\"T_8eb72_level0_row4\" class=\"row_heading level0 row4\" >Unintentional injuries</th>\n",
       "                        <td id=\"T_8eb72_row4_col0\" class=\"data row4 col0\" >2,347,820</td>\n",
       "            </tr>\n",
       "            <tr>\n",
       "                        <th id=\"T_8eb72_level0_row5\" class=\"row_heading level0 row5\" >Alzheimer's disease</th>\n",
       "                        <td id=\"T_8eb72_row5_col0\" class=\"data row5 col0\" >1,494,816</td>\n",
       "            </tr>\n",
       "            <tr>\n",
       "                        <th id=\"T_8eb72_level0_row6\" class=\"row_heading level0 row6\" >Diabetes</th>\n",
       "                        <td id=\"T_8eb72_row6_col0\" class=\"data row6 col0\" >1,399,943</td>\n",
       "            </tr>\n",
       "            <tr>\n",
       "                        <th id=\"T_8eb72_level0_row7\" class=\"row_heading level0 row7\" >Influenza and pneumonia</th>\n",
       "                        <td id=\"T_8eb72_row7_col0\" class=\"data row7 col0\" >1,094,641</td>\n",
       "            </tr>\n",
       "            <tr>\n",
       "                        <th id=\"T_8eb72_level0_row8\" class=\"row_heading level0 row8\" >Kidney disease</th>\n",
       "                        <td id=\"T_8eb72_row8_col0\" class=\"data row8 col0\" >858,613</td>\n",
       "            </tr>\n",
       "            <tr>\n",
       "                        <th id=\"T_8eb72_level0_row9\" class=\"row_heading level0 row9\" >Suicide</th>\n",
       "                        <td id=\"T_8eb72_row9_col0\" class=\"data row9 col0\" >697,016</td>\n",
       "            </tr>\n",
       "    </tbody></table>"
      ],
      "text/plain": [
       "<pandas.io.formats.style.Styler at 0x2328c8f5580>"
      ]
     },
     "execution_count": 92,
     "metadata": {},
     "output_type": "execute_result"
    }
   ],
   "source": [
    "cause_des = df.groupby(['Cause Name']).sum().sort_values(by='Deaths', ascending=False)\n",
    "cause_des[['Deaths']].style.format('{:,}')"
   ]
  },
  {
   "cell_type": "code",
   "execution_count": 93,
   "id": "a5b45558",
   "metadata": {},
   "outputs": [
    {
     "data": {
      "text/plain": [
       "<AxesSubplot:xlabel='Year'>"
      ]
     },
     "execution_count": 93,
     "metadata": {},
     "output_type": "execute_result"
    },
    {
     "data": {
      "image/png": "[encoded data removed]",
      "text/plain": [
       "<Figure size 576x396 with 1 Axes>"
      ]
     },
     "metadata": {},
     "output_type": "display_data"
    }
   ],
   "source": [
    "df_y10[['Deaths']].plot(kind='line', style='ro-')"
   ]
  },
  {
   "cell_type": "code",
   "execution_count": 94,
   "id": "055f3900",
   "metadata": {},
   "outputs": [
    {
     "data": {
      "image/png": "[encoded data removed]",
      "text/plain": [
       "<Figure size 576x396 with 1 Axes>"
      ]
     },
     "metadata": {},
     "output_type": "display_data"
    }
   ],
   "source": [
    "df_plot = df[(df.Year >= 2008) & (df['Cause Name'] == 'Kidney disease')]\n",
    "df_plot = df_plot.groupby('Year').sum()\n",
    "\n",
    "plt.plot(df_plot.index, df_plot['Deaths'], 'mD-')\n",
    "plt.show()"
   ]
  },
  {
   "cell_type": "code",
   "execution_count": 95,
   "id": "26ea8122",
   "metadata": {},
   "outputs": [
    {
     "data": {
      "text/plain": [
       "<AxesSubplot:xlabel='Cause Name'>"
      ]
     },
     "execution_count": 95,
     "metadata": {},
     "output_type": "execute_result"
    },
    {
     "data": {
      "image/png": "[encoded data removed]",
      "text/plain": [
       "<Figure size 576x396 with 1 Axes>"
      ]
     },
     "metadata": {},
     "output_type": "display_data"
    }
   ],
   "source": [
    "plt.style.use('seaborn')\n",
    "plt.rcParams['font.sans-serif'] = 'tahoma'\n",
    "plt.rcParams['font.family'] = 'tahoma'\n",
    "plt.rcParams['font.size'] = 14\n",
    "\n",
    "df = pd.read_csv('data-sci\\\\NCHS2.csv')\n",
    "df = df[df.State == 'West Virginia'].groupby('Cause Name').sum()\n",
    "\n",
    "#display(df)\n",
    "\n",
    "df[['Deaths']].plot.bar(color='b')"
   ]
  },
  {
   "cell_type": "code",
   "execution_count": null,
   "id": "32ca8ae1",
   "metadata": {},
   "outputs": [],
   "source": []
  }
 ],
 "metadata": {
  "kernelspec": {
   "display_name": "Python 3 (ipykernel)",
   "language": "python",
   "name": "python3"
  },
  "language_info": {
   "codemirror_mode": {
    "name": "ipython",
    "version": 3
   },
   "file_extension": ".py",
   "mimetype": "text/x-python",
   "name": "python",
   "nbconvert_exporter": "python",
   "pygments_lexer": "ipython3",
   "version": "3.8.8"
  }
 },
 "nbformat": 4,
 "nbformat_minor": 5
}
